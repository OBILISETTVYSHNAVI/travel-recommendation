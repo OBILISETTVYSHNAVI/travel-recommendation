{
  "nbformat": 4,
  "nbformat_minor": 0,
  "metadata": {
    "colab": {
      "provenance": [],
      "authorship_tag": "ABX9TyMjCM7bdqGoUjMvwm0s+1OL",
      "include_colab_link": true
    },
    "kernelspec": {
      "name": "python3",
      "display_name": "Python 3"
    },
    "language_info": {
      "name": "python"
    }
  },
  "cells": [
    {
      "cell_type": "markdown",
      "metadata": {
        "id": "view-in-github",
        "colab_type": "text"
      },
      "source": [
        "<a href=\"https://colab.research.google.com/github/OBILISETTVYSHNAVI/travel-recommendation/blob/main/Travel_recommendation_system.ipynb\" target=\"_parent\"><img src=\"https://colab.research.google.com/assets/colab-badge.svg\" alt=\"Open In Colab\"/></a>"
      ]
    },
    {
      "cell_type": "code",
      "source": [
        "import pandas as pd\n",
        "import numpy as np\n",
        "import gradio as gr\n",
        "import pickle\n",
        "from sklearn.model_selection import StratifiedShuffleSplit\n",
        "from sklearn.preprocessing import LabelEncoder, StandardScaler\n",
        "from sklearn.ensemble import RandomForestClassifier, GradientBoostingClassifier, VotingClassifier\n",
        "from sklearn.metrics import accuracy_score\n",
        "\n",
        "# Load datasets\n",
        "df1 = pd.read_csv(\"Expanded_Destinations.csv\")\n",
        "df2 = pd.read_csv(\"Final_Updated_Expanded_Reviews.csv\")\n",
        "df3 = pd.read_csv(\"Final_Updated_Expanded_UserHistory.csv\")\n",
        "df4 = pd.read_csv(\"Final_Updated_Expanded_Users.csv\")\n",
        "\n",
        "# Concatenate datasets\n",
        "data = pd.concat([df1, df2, df3, df4], ignore_index=True)\n",
        "\n",
        "# Fill missing values\n",
        "for col in data.select_dtypes(include=['number']).columns:\n",
        "    data[col].fillna(data[col].mean(), inplace=True)\n",
        "for col in data.select_dtypes(include=['object']).columns:\n",
        "    data[col].fillna(data[col].mode()[0], inplace=True)\n",
        "\n",
        "# Encode categorical columns\n",
        "label_encoders = {}\n",
        "categorical_cols = ['State', 'Type', 'BestTimeToVisit', 'Name']\n",
        "for col in categorical_cols:\n",
        "    le = LabelEncoder()\n",
        "    data[col] = le.fit_transform(data[col])\n",
        "    label_encoders[col] = le\n",
        "\n",
        "# Standardize numeric columns\n",
        "numeric_cols = ['Popularity', 'Rating']\n",
        "scaler = StandardScaler()\n",
        "data[numeric_cols] = scaler.fit_transform(data[numeric_cols])\n",
        "\n",
        "# Features and Target\n",
        "X = data[['State', 'Type', 'BestTimeToVisit', 'Popularity', 'Rating']]\n",
        "y = data['Name']\n",
        "\n",
        "# Train-test split\n",
        "split = StratifiedShuffleSplit(n_splits=1, test_size=0.2, random_state=42)\n",
        "for train_idx, test_idx in split.split(X, y):\n",
        "    X_train, X_test = X.iloc[train_idx], X.iloc[test_idx]\n",
        "    y_train, y_test = y.iloc[train_idx], y.iloc[test_idx]\n",
        "\n",
        "# Ensemble model\n",
        "rf = RandomForestClassifier(n_estimators=200, max_depth=7, random_state=42)\n",
        "gb = GradientBoostingClassifier(n_estimators=200, learning_rate=0.05, max_depth=4, random_state=42)\n",
        "ensemble_model = VotingClassifier(estimators=[('rf', rf), ('gb', gb)], voting='soft')\n",
        "\n",
        "# Fit and evaluate\n",
        "ensemble_model.fit(X_train, y_train)\n",
        "y_pred = ensemble_model.predict(X_test)\n",
        "accuracy = accuracy_score(y_test, y_pred)\n",
        "print(f'Accuracy: {accuracy:.2f}')\n",
        "\n",
        "# Save model\n",
        "with open(\"model.pkl\", \"wb\") as f:\n",
        "    pickle.dump(ensemble_model, f)\n"
      ],
      "metadata": {
        "id": "JeuNvBQKQ7nG",
        "colab": {
          "base_uri": "https://localhost:8080/"
        },
        "outputId": "ab2087e4-d099-4428-e9aa-6a7f7ae84c3b"
      },
      "execution_count": 51,
      "outputs": [
        {
          "output_type": "stream",
          "name": "stderr",
          "text": [
            "/tmp/ipython-input-51-4214713004.py:21: FutureWarning: A value is trying to be set on a copy of a DataFrame or Series through chained assignment using an inplace method.\n",
            "The behavior will change in pandas 3.0. This inplace method will never work because the intermediate object on which we are setting values always behaves as a copy.\n",
            "\n",
            "For example, when doing 'df[col].method(value, inplace=True)', try using 'df.method({col: value}, inplace=True)' or df[col] = df[col].method(value) instead, to perform the operation inplace on the original object.\n",
            "\n",
            "\n",
            "  data[col].fillna(data[col].mean(), inplace=True)\n",
            "/tmp/ipython-input-51-4214713004.py:23: FutureWarning: A value is trying to be set on a copy of a DataFrame or Series through chained assignment using an inplace method.\n",
            "The behavior will change in pandas 3.0. This inplace method will never work because the intermediate object on which we are setting values always behaves as a copy.\n",
            "\n",
            "For example, when doing 'df[col].method(value, inplace=True)', try using 'df.method({col: value}, inplace=True)' or df[col] = df[col].method(value) instead, to perform the operation inplace on the original object.\n",
            "\n",
            "\n",
            "  data[col].fillna(data[col].mode()[0], inplace=True)\n"
          ]
        },
        {
          "output_type": "stream",
          "name": "stdout",
          "text": [
            "Accuracy: 0.75\n"
          ]
        }
      ]
    },
    {
      "cell_type": "code",
      "source": [
        "# Enhanced Manual Recommendations (Complete and Balanced)\n",
        "manual_recommendations = {\n",
        "    \"Goa\": {\n",
        "        \"Beach\": [\"Calangute Beach\", \"Baga Beach\"],\n",
        "        \"Historical\": [\"Basilica of Bom Jesus\", \"Chapora Fort\"],\n",
        "        \"History\": [\"Fort Aguada\", \"Reis Magos Fort\"],\n",
        "        \"Nature\": [\"Salim Ali Bird Sanctuary\", \"Dudhsagar Falls\"],\n",
        "        \"Adventure\": [\"Scuba Diving at Grande Island\", \"Parasailing at Baga Beach\"]\n",
        "    },\n",
        "    \"Rajasthan\": {\n",
        "        \"Beach\": [\"Mansagar Lake\", \"Ana Sagar Lake\"],\n",
        "        \"Historical\": [\"Amber Fort\", \"City Palace\"],\n",
        "        \"History\": [\"Hawa Mahal\", \"Jantar Mantar\"],\n",
        "        \"Nature\": [\"Mount Abu\", \"Keoladeo National Park\"],\n",
        "        \"Adventure\": [\"Desert Safari in Jaisalmer\", \"Hot Air Ballooning in Jaipur\"]\n",
        "    },\n",
        "    \"Kerala\": {\n",
        "        \"Beach\": [\"Varkala Beach\", \"Kovalam Beach\"],\n",
        "        \"Historical\": [\"Mattancherry Palace\", \"Bekal Fort\"],\n",
        "        \"History\": [\"Fort Kochi\", \"Hill Palace\"],\n",
        "        \"Nature\": [\"Munnar\", \"Alleppey Backwaters\"],\n",
        "        \"Adventure\": [\"Trekking in Wayanad\", \"Boating in Periyar Lake\"]\n",
        "    },\n",
        "    \"Uttar Pradesh\": {\n",
        "        \"Beach\": [\"Sangam Ghat (Prayagraj)\", \"Varanasi Ghats\"],\n",
        "        \"Historical\": [\"Taj Mahal\", \"Fatehpur Sikri\"],\n",
        "        \"History\": [\"Chunar Fort\", \"Rumi Darwaza\"],\n",
        "        \"Nature\": [\"Dudhwa National Park\", \"Vindhyachal\"],\n",
        "        \"Adventure\": [\"Wildlife Safari in Katarniaghat\", \"Rock Climbing in Sonbhadra\"]\n",
        "    },\n",
        "    \"Jammu and Kashmir\": {\n",
        "        \"Beach\": [\"Manasbal Lake\", \"Wular Lake\"],\n",
        "        \"Historical\": [\"Hari Parbat Fort\", \"Amar Mahal Palace\"],\n",
        "        \"History\": [\"Mughal Gardens\", \"Shankaracharya Temple\"],\n",
        "        \"Nature\": [\"Gulmarg\", \"Sonamarg\"],\n",
        "        \"Adventure\": [\"Trekking in Pahalgam\", \"Skiing in Gulmarg\"]\n",
        "    }\n",
        "}\n"
      ],
      "metadata": {
        "id": "2ngMI3yq_4gt"
      },
      "execution_count": 52,
      "outputs": []
    },
    {
      "cell_type": "code",
      "source": [
        "# Gradio interface function\n",
        "app_code = '''\n",
        "def recommend_places(state, place_type, best_time):\n",
        "     # Check if all selections are None\n",
        "    if state == \"None\" and place_type == \"None\" and best_time == \"None\":\n",
        "        return \"Please select at least one option to get recommendations.\"\n",
        "\n",
        "    # Convert input text to encoded values\n",
        "    if state == \"None\":\n",
        "        state_encoded = None\n",
        "    elif state in label_encoders['State'].classes_:\n",
        "        state_encoded = label_encoders['State'].transform([state])[0]\n",
        "    else:\n",
        "        return \"Invalid state selection.\"\n",
        "\n",
        "    if place_type == \"None\":\n",
        "        type_encoded = None\n",
        "    elif place_type in label_encoders['Type'].classes_:\n",
        "        type_encoded = label_encoders['Type'].transform([place_type])[0]\n",
        "    else:\n",
        "        return \"Invalid place type selection.\"\n",
        "\n",
        "    if best_time == \"None\":\n",
        "        best_time_encoded = None\n",
        "    elif best_time in label_encoders['BestTimeToVisit'].classes_:\n",
        "        best_time_encoded = label_encoders['BestTimeToVisit'].transform([best_time])[0]\n",
        "    else:\n",
        "        return \"Invalid best time selection.\"\n",
        "\n",
        "    # Filter based on given inputs\n",
        "    filtered_data = data.copy()\n",
        "    if state_encoded is not None:\n",
        "        filtered_data = filtered_data[filtered_data['State'] == state_encoded]\n",
        "    if type_encoded is not None:\n",
        "        filtered_data = filtered_data[filtered_data['Type'] == type_encoded]\n",
        "    if best_time_encoded is not None:\n",
        "        filtered_data = filtered_data[filtered_data['BestTimeToVisit'] == best_time_encoded]\n",
        "\n",
        "    # If no recommendations found, use manual fallback\n",
        "    if filtered_data.empty:\n",
        "        if state in manual_recommendations and place_type in manual_recommendations[state]:\n",
        "            return manual_recommendations[state][place_type]\n",
        "        else:\n",
        "            return \"No recommendations found. Try different selections.\"\n",
        "\n",
        "    # Decode the recommended place names\n",
        "    recommendations = label_encoders['Name'].inverse_transform(filtered_data['Name'].unique())\n",
        "\n",
        "    return recommendations if len(recommendations) > 0 else \"No recommendations found.\"\n",
        "\n",
        "demo = gr.Interface(\n",
        "    fn=recommend_places,\n",
        "    inputs=[\n",
        "        gr.Dropdown(choices=[\"None\"] + list(label_encoders['State'].inverse_transform(range(len(label_encoders['State'].classes_)))), label='State'),\n",
        "        gr.Dropdown(choices=[\"None\"] + list(label_encoders['Type'].inverse_transform(range(len(label_encoders['Type'].classes_)))), label='Type'),\n",
        "        gr.Dropdown(choices=[\"None\"] + list(label_encoders['BestTimeToVisit'].inverse_transform(range(len(label_encoders['BestTimeToVisit'].classes_)))), label='Best Time to Visit'),\n",
        "    ],\n",
        "    outputs=\"text\",\n",
        "    title=\"Travel Destination Recommender\",\n",
        "    description=\"Get recommended travel destinations based on your selected state, place type, and best time to visit.\"\n",
        ")\n",
        "\n",
        "# Launch the app\n",
        "if __name__ == \"__main__\":\n",
        "    demo.launch()\n",
        "'''\n",
        "\n",
        "with open(\"app.py\", \"w\") as f:\n",
        "    f.write(app_code)\n"
      ],
      "metadata": {
        "id": "YL5QY-HDXNa9"
      },
      "execution_count": 53,
      "outputs": []
    },
    {
      "cell_type": "code",
      "source": [
        "!pip install huggingface_hub"
      ],
      "metadata": {
        "colab": {
          "base_uri": "https://localhost:8080/"
        },
        "id": "yFO3B7fFt6lV",
        "outputId": "8a9aeed2-9387-4120-e791-073d1c23144e"
      },
      "execution_count": 16,
      "outputs": [
        {
          "output_type": "stream",
          "name": "stdout",
          "text": [
            "Requirement already satisfied: huggingface_hub in /usr/local/lib/python3.11/dist-packages (0.33.2)\n",
            "Requirement already satisfied: filelock in /usr/local/lib/python3.11/dist-packages (from huggingface_hub) (3.18.0)\n",
            "Requirement already satisfied: fsspec>=2023.5.0 in /usr/local/lib/python3.11/dist-packages (from huggingface_hub) (2025.3.2)\n",
            "Requirement already satisfied: packaging>=20.9 in /usr/local/lib/python3.11/dist-packages (from huggingface_hub) (24.2)\n",
            "Requirement already satisfied: pyyaml>=5.1 in /usr/local/lib/python3.11/dist-packages (from huggingface_hub) (6.0.2)\n",
            "Requirement already satisfied: requests in /usr/local/lib/python3.11/dist-packages (from huggingface_hub) (2.32.3)\n",
            "Requirement already satisfied: tqdm>=4.42.1 in /usr/local/lib/python3.11/dist-packages (from huggingface_hub) (4.67.1)\n",
            "Requirement already satisfied: typing-extensions>=3.7.4.3 in /usr/local/lib/python3.11/dist-packages (from huggingface_hub) (4.14.1)\n",
            "Requirement already satisfied: hf-xet<2.0.0,>=1.1.2 in /usr/local/lib/python3.11/dist-packages (from huggingface_hub) (1.1.5)\n",
            "Requirement already satisfied: charset-normalizer<4,>=2 in /usr/local/lib/python3.11/dist-packages (from requests->huggingface_hub) (3.4.2)\n",
            "Requirement already satisfied: idna<4,>=2.5 in /usr/local/lib/python3.11/dist-packages (from requests->huggingface_hub) (3.10)\n",
            "Requirement already satisfied: urllib3<3,>=1.21.1 in /usr/local/lib/python3.11/dist-packages (from requests->huggingface_hub) (2.4.0)\n",
            "Requirement already satisfied: certifi>=2017.4.17 in /usr/local/lib/python3.11/dist-packages (from requests->huggingface_hub) (2025.6.15)\n"
          ]
        }
      ]
    },
    {
      "cell_type": "code",
      "source": [
        "!huggingface-cli login"
      ],
      "metadata": {
        "colab": {
          "base_uri": "https://localhost:8080/"
        },
        "id": "jDbIhb0WuD7T",
        "outputId": "c2b2dac7-1446-4ca9-f019-b9f4b4d63d1c"
      },
      "execution_count": 54,
      "outputs": [
        {
          "output_type": "stream",
          "name": "stdout",
          "text": [
            "\n",
            "    _|    _|  _|    _|    _|_|_|    _|_|_|  _|_|_|  _|      _|    _|_|_|      _|_|_|_|    _|_|      _|_|_|  _|_|_|_|\n",
            "    _|    _|  _|    _|  _|        _|          _|    _|_|    _|  _|            _|        _|    _|  _|        _|\n",
            "    _|_|_|_|  _|    _|  _|  _|_|  _|  _|_|    _|    _|  _|  _|  _|  _|_|      _|_|_|    _|_|_|_|  _|        _|_|_|\n",
            "    _|    _|  _|    _|  _|    _|  _|    _|    _|    _|    _|_|  _|    _|      _|        _|    _|  _|        _|\n",
            "    _|    _|    _|_|      _|_|_|    _|_|_|  _|_|_|  _|      _|    _|_|_|      _|        _|    _|    _|_|_|  _|_|_|_|\n",
            "\n",
            "    A token is already saved on your machine. Run `huggingface-cli whoami` to get more information or `huggingface-cli logout` if you want to log out.\n",
            "    Setting a new token will erase the existing one.\n",
            "    To log in, `huggingface_hub` requires a token generated from https://huggingface.co/settings/tokens .\n",
            "Enter your token (input will not be visible): \n",
            "Add token as git credential? (Y/n) y\n",
            "Token is valid (permission: fineGrained).\n",
            "The token `travel recommendation` has been saved to /root/.cache/huggingface/stored_tokens\n",
            "\u001b[1m\u001b[31mCannot authenticate through git-credential as no helper is defined on your machine.\n",
            "You might have to re-authenticate when pushing to the Hugging Face Hub.\n",
            "Run the following command in your terminal in case you want to set the 'store' credential helper as default.\n",
            "\n",
            "git config --global credential.helper store\n",
            "\n",
            "Read https://git-scm.com/book/en/v2/Git-Tools-Credential-Storage for more details.\u001b[0m\n",
            "Token has not been saved to git credential helper.\n",
            "Your token has been saved to /root/.cache/huggingface/token\n",
            "Login successful.\n",
            "The current active token is: `travel recommendation`\n"
          ]
        }
      ]
    },
    {
      "cell_type": "code",
      "source": [
        "!gradio deploy"
      ],
      "metadata": {
        "colab": {
          "base_uri": "https://localhost:8080/"
        },
        "id": "k2PvR9uAz8Nc",
        "outputId": "81b0daa3-355a-4179-889c-df5036e8aae3"
      },
      "execution_count": 55,
      "outputs": [
        {
          "output_type": "stream",
          "name": "stdout",
          "text": [
            "Need \u001b[32m'write'\u001b[0m access token to create a Spaces repo.\n",
            "\n",
            "    _|    _|  _|    _|    _|_|_|    _|_|_|  _|_|_|  _|      _|    _|_|_|      _|_|_|_|    _|_|      _|_|_|  _|_|_|_|\n",
            "    _|    _|  _|    _|  _|        _|          _|    _|_|    _|  _|            _|        _|    _|  _|        _|\n",
            "    _|_|_|_|  _|    _|  _|  _|_|  _|  _|_|    _|    _|  _|  _|  _|  _|_|      _|_|_|    _|_|_|_|  _|        _|_|_|\n",
            "    _|    _|  _|    _|  _|    _|  _|    _|    _|    _|    _|_|  _|    _|      _|        _|    _|  _|        _|\n",
            "    _|    _|    _|_|      _|_|_|    _|_|_|  _|_|_|  _|      _|    _|_|_|      _|        _|    _|    _|_|_|  _|_|_|_|\n",
            "\n",
            "Enter your token (input will not be visible): \n",
            "Add token as git credential? (Y/n) y\n",
            "\u001b[1m\u001b[31mCannot authenticate through git-credential as no helper is defined on your machine.\n",
            "You might have to re-authenticate when pushing to the Hugging Face Hub.\n",
            "Run the following command in your terminal in case you want to set the 'store' credential helper as default.\n",
            "\n",
            "git config --global credential.helper store\n",
            "\n",
            "Read https://git-scm.com/book/en/v2/Git-Tools-Credential-Storage for more details.\u001b[0m\n",
            "Token has not been saved to git credential helper.\n",
            "model.pkl: 100% 6.20M/6.20M [00:00<00:00, 8.29MB/s]\n",
            "Space available at \n",
            "\u001b[4;94mhttps://huggingface.co/spaces/ObilisettyVyshnavi/Travel_REcommendation_System\u001b[0m\n"
          ]
        }
      ]
    }
  ]
}